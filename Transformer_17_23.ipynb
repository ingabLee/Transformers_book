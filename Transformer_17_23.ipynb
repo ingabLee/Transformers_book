{
  "nbformat": 4,
  "nbformat_minor": 0,
  "metadata": {
    "colab": {
      "provenance": [],
      "authorship_tag": "ABX9TyOyOQ61576IIOXxxM9YVs2K",
      "include_colab_link": true
    },
    "kernelspec": {
      "name": "python3",
      "display_name": "Python 3"
    },
    "language_info": {
      "name": "python"
    }
  },
  "cells": [
    {
      "cell_type": "markdown",
      "metadata": {
        "id": "view-in-github",
        "colab_type": "text"
      },
      "source": [
        "<a href=\"https://colab.research.google.com/github/ingabLee/Transformers_book/blob/main/Transformer_17_23.ipynb\" target=\"_parent\"><img src=\"https://colab.research.google.com/assets/colab-badge.svg\" alt=\"Open In Colab\"/></a>"
      ]
    },
    {
      "cell_type": "code",
      "execution_count": null,
      "metadata": {
        "id": "m61y412SZUXv"
      },
      "outputs": [],
      "source": [
        "#!pip3 uninstall --yes torch torchaudio torchvision torchtext torchdata\n",
        "#!pip3 install torch torchaudio torchvision torchtext==0.17.0 torchdata\n",
        "#!pip3 install portalocker\n",
        "#!pip3 install accelerate\n",
        "!pip3 install transformers\n",
        "!pip3 install sentencepiece\n",
        "\n",
        "from transformers import GPTNeoForCausalLM, GPT2Tokenizer\n",
        "\n",
        "# load model and tokenzier\n",
        "model = GPTNeoForCausalLM.from_pretrained(\"EleutherAI/gpt-neo-1.3B\")\n",
        "tokenizer = GPT2Tokenizer.from_pretrained(\"EleutherAI/gpt-neo-1.3B\")"
      ]
    },
    {
      "cell_type": "code",
      "source": [
        "# tokenizing encoding( single input text )\n",
        "input = tokenizer.encode(\"I evaluated the performance of GPT-Neo developed by OpenAI.\",\n",
        "                         return_tensors=\"pt\")\n",
        "\n",
        "# 첫번째 인코딩 결과(결과적으로 하나의 문장)를 확인\n",
        "print(input[0])\n",
        "\n",
        "# 첫번째 인코딩결과를 디코딩\n",
        "print(tokenizer.decode(input[0]))"
      ],
      "metadata": {
        "id": "lAy4s3N9aI-Z"
      },
      "execution_count": null,
      "outputs": []
    },
    {
      "cell_type": "code",
      "source": [
        "# encoding by tokenizing( multiple input text)\n",
        "tokenizer.add_special_tokens({'pad_token':'[PAD]'})\n",
        "\n",
        "input = tokenizer.batch_encode_plus([\n",
        "    \"I evaluated the performance of GPT-Neo developed by OpenAI.\",\n",
        "    \"I evaluated the performance of GPT develooped by OpenAI.\"],\n",
        "                                    padding=True,\n",
        "                                    truncation=True,\n",
        "                                    return_tensors=\"pt\")\n",
        "\n",
        "# check encoding result\n",
        "print(input['input_ids'])\n",
        "\n",
        "#decoding\n",
        "print([tokenizer.decode(input['input_ids'][i]) for i in range(len(input['input_ids']))])"
      ],
      "metadata": {
        "id": "wev5-TO_cNDB"
      },
      "execution_count": null,
      "outputs": []
    },
    {
      "cell_type": "code",
      "source": [],
      "metadata": {
        "id": "pQvVU_8bdrJj"
      },
      "execution_count": null,
      "outputs": []
    }
  ]
}