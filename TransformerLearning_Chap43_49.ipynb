{
  "nbformat": 4,
  "nbformat_minor": 0,
  "metadata": {
    "colab": {
      "provenance": [],
      "authorship_tag": "ABX9TyPydMQ9cBVkhXjWrR47LIJ/",
      "include_colab_link": true
    },
    "kernelspec": {
      "name": "python3",
      "display_name": "Python 3"
    },
    "language_info": {
      "name": "python"
    }
  },
  "cells": [
    {
      "cell_type": "markdown",
      "metadata": {
        "id": "view-in-github",
        "colab_type": "text"
      },
      "source": [
        "<a href=\"https://colab.research.google.com/github/ingabLee/Transformers_book/blob/main/TransformerLearning_Chap43_49.ipynb\" target=\"_parent\"><img src=\"https://colab.research.google.com/assets/colab-badge.svg\" alt=\"Open In Colab\"/></a>"
      ]
    },
    {
      "cell_type": "code",
      "execution_count": null,
      "metadata": {
        "id": "D0p2t55zspqJ"
      },
      "outputs": [],
      "source": [
        "!pip install transformers\n",
        "\n",
        "from transformers import AutoTokenizer, AutoModelForSequenceClassification\n",
        "import torch\n",
        "\n",
        "# load model, tokenizer\n",
        "tokenizer = AutoTokenizer.from_pretrained(\"bert-base-cased\")\n",
        "model = AutoModelForSequenceClassification.from_pretrained(\"bert-base-cased\", num_labels=3)"
      ]
    },
    {
      "cell_type": "code",
      "source": [
        "# prepare dictionary for label\n",
        "dic = { 0:'positive', 1:'neutral', 2:'negative' }\n",
        "\n",
        "# data\n",
        "eval_list = [\"I like apple\",\n",
        "             \"I like pear\",\n",
        "             \"I go to school\",\n",
        "             \"I dislike mosquito\",\n",
        "             \"I felt very sad\",\n",
        "             \"I feel so good\"]\n",
        "\n",
        "# answer label\n",
        "ans = torch.tensor([0, 0, 1, 2, 2, 0])\n",
        "\n",
        "# no fine-tunning inference\n",
        "# eval mode\n",
        "model.eval()\n",
        "\n",
        "# no graident\n",
        "# eval mode is no train.\n",
        "with torch.no_grad():\n",
        "  for article in eval_list:\n",
        "\n",
        "    # eval_list text -> encoding tokenizing\n",
        "    inputs = tokenizer.encode(article, return_tensors=\"pt\", padding=True, truncation=True)\n",
        "\n",
        "    # inputs model\n",
        "    outputs = model(inputs)\n",
        "\n",
        "    # get logits\n",
        "    logits = outputs.logits\n",
        "\n",
        "    # argmax output logits\n",
        "    # convert using item()\n",
        "    # print label with input text\n",
        "    print(f\"{dic[logits.argmax(-1).item()]}:{article}\")\n"
      ],
      "metadata": {
        "id": "iytbA1WUtW4A"
      },
      "execution_count": null,
      "outputs": []
    },
    {
      "cell_type": "code",
      "source": [
        "# runtime 1min\n",
        "# activation func AdamW\n",
        "from torch.optim import AdamW\n",
        "\n",
        "# instance AdamW\n",
        "optimizer = AdamW(model.parameters(), lr=1e-5)\n",
        "\n",
        "# tran mode.\n",
        "model.train()\n",
        "\n",
        "# epoch 50, loss list\n",
        "epochs=50\n",
        "losses = []\n",
        "\n",
        "# fine-tunning\n",
        "for epoch in range(epochs):\n",
        "  # init gradient\n",
        "  optimizer.zero_grad()\n",
        "\n",
        "  # eval_list text 6 -> encoding\n",
        "  inputs = tokenizer.batch_encode_plus(eval_list, return_tensors=\"pt\",\n",
        "                                        padding=True, truncation=True)\n",
        "\n",
        "  #inputs에 담긴 key와 value을 **inputs형식(**kargs)으로 전달.\n",
        "  # 추가로 labels를 tensor type으로 전달\n",
        "  outputs = model(**inputs, labels=ans)\n",
        "\n",
        "  # get logit\n",
        "  logits = outputs.logits\n",
        "\n",
        "  # get loss\n",
        "  loss = outputs.loss\n",
        "\n",
        "  #error backward\n",
        "  loss.backward()\n",
        "\n",
        "  # update weight\n",
        "  optimizer.step()\n",
        "\n",
        "  # add loss\n",
        "  losses.append(loss)\n",
        "\n",
        "  # print epoch, loss\n",
        "  print(f\"epoch:{epoch}, loss:{loss}\")"
      ],
      "metadata": {
        "id": "1BK1LXyVwEtO"
      },
      "execution_count": null,
      "outputs": []
    },
    {
      "cell_type": "code",
      "source": [
        "# pytorch에서 item()은 tensor로부터 값을 python 숫자로 추출하여 cpu전달\n",
        "new_losses = [i.item() for i in losses]\n",
        "\n",
        "import matplotlib.pyplot as plt\n",
        "plt.plot(new_losses);"
      ],
      "metadata": {
        "id": "wvzUxa1t2Gz6"
      },
      "execution_count": null,
      "outputs": []
    },
    {
      "cell_type": "code",
      "source": [
        "# set eval mode\n",
        "model.eval()\n",
        "\n",
        "# model inference result list\n",
        "preds = []\n",
        "\n",
        "with torch.no_grad():\n",
        "  for article in eval_list:\n",
        "    inputs = tokenizer.encode(article, return_tensors=\"pt\",\n",
        "                              padding=True, truncation=True)\n",
        "    outputs = model(inputs)\n",
        "\n",
        "    logits = outputs.logits\n",
        "    pred = logits.argmax(-1).item()\n",
        "    preds.append(pred)\n",
        "    print(f\"{dict[pred]} : {article}\")\n"
      ],
      "metadata": {
        "id": "Niqr25i03ftl"
      },
      "execution_count": null,
      "outputs": []
    },
    {
      "cell_type": "code",
      "source": [
        "preds = torch.tensor(preds)\n",
        "preds"
      ],
      "metadata": {
        "id": "IlhaxUF34mCW"
      },
      "execution_count": null,
      "outputs": []
    },
    {
      "cell_type": "code",
      "source": [
        "# calc accuracy\n",
        "print(f\"Accuracy : { 100 * sum(ans.detach().clone()==preds) / len(ans.detach().clone())}%\")"
      ],
      "metadata": {
        "id": "KsaHUJ7k5RRy"
      },
      "execution_count": null,
      "outputs": []
    },
    {
      "cell_type": "code",
      "source": [],
      "metadata": {
        "id": "ckSPer-h5n5M"
      },
      "execution_count": null,
      "outputs": []
    }
  ]
}