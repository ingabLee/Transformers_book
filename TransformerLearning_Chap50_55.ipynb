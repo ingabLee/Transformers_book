{
  "nbformat": 4,
  "nbformat_minor": 0,
  "metadata": {
    "colab": {
      "provenance": [],
      "authorship_tag": "ABX9TyO7Dto+buzq7BvnnmI5P7CI",
      "include_colab_link": true
    },
    "kernelspec": {
      "name": "python3",
      "display_name": "Python 3"
    },
    "language_info": {
      "name": "python"
    }
  },
  "cells": [
    {
      "cell_type": "markdown",
      "metadata": {
        "id": "view-in-github",
        "colab_type": "text"
      },
      "source": [
        "<a href=\"https://colab.research.google.com/github/ingabLee/Transformers_book/blob/main/TransformerLearning_Chap50_55.ipynb\" target=\"_parent\"><img src=\"https://colab.research.google.com/assets/colab-badge.svg\" alt=\"Open In Colab\"/></a>"
      ]
    },
    {
      "cell_type": "code",
      "execution_count": null,
      "metadata": {
        "id": "hRKL5xopB9sd"
      },
      "outputs": [],
      "source": [
        "!pip install transformers\n",
        "\n",
        "from transformers import BartTokenizer, TFBartForConditionalGeneration\n",
        "\n",
        "#loade model and tokenizer\n",
        "model = TFBartForConditionalGeneration.from_pretrained(\"facebook/bart-large\")\n",
        "tokenizer = BartTokenizer.from_pretrained(\"facebook/bart-large\")"
      ]
    },
    {
      "cell_type": "code",
      "source": [
        "import re\n",
        "\n",
        "# 줄이 바뀌는 텍스트를 사용할 경우 \"\"\"를 사용\n",
        "article = \"\"\"\n",
        "Google LLC is an American multinational corporation and technology company focusing on online advertising, search engine technology, cloud computing, computer software, quantum computing, e-commerce, consumer electronics, and artificial intelligence (AI).[9] It has been referred to as \"the most powerful company in the world\" by the BBC[10] and is one of the world's most valuable brands due to its market dominance, data collection, and technological advantages in the field of AI.[11][12][13] Alongside Amazon, Apple, Meta, and Microsoft, Google's parent company, Alphabet Inc. is one of the five Big Tech companies.\n",
        "\n",
        "Google was founded on September 4, 1998, by American computer scientists Larry Page and Sergey Brin while they were PhD students at Stanford University in California. Together, they own about 14% of its publicly listed shares and control 56% of its stockholder voting power through super-voting stock. The company went public via an initial public offering (IPO) in 2004. In 2015, Google was reorganized as a wholly owned subsidiary of Alphabet Inc. Google is Alphabet's largest subsidiary and is a holding company for Alphabet's internet properties and interests. Sundar Pichai was appointed CEO of Google on October 24, 2015, replacing Larry Page, who became the CEO of Alphabet. On December 3, 2019, Pichai also became the CEO of Alphabet.[14]\n",
        "\n",
        "The company has since rapidly grown to offer a multitude of products and services beyond Google Search, many of which hold dominant market positions. These products address a wide range of use cases, including email (Gmail), navigation and mapping (Waze, Maps and Earth), cloud computing (Cloud), web navigation (Chrome), video sharing (YouTube), productivity (Workspace), operating systems (Android), cloud storage (Drive), language translation (Translate), photo storage (Photos), videotelephony (Meet), smart home (Nest), smartphones (Pixel), wearable technology (Pixel Watch and Fitbit), music streaming (YouTube Music), video on demand (YouTube TV), AI (Google Assistant and Gemini), machine learning APIs (TensorFlow), AI chips (TPU), and more. Discontinued Google products include gaming (Stadia),[15] Glass, Google+, Reader, Play Music, Nexus, Hangouts, and Inbox by Gmail.[16][17] Google's other ventures outside of internet services and consumer electronics include quantum computing (Sycamore), self-driving cars (Waymo, formerly the Google Self-Driving Car Project), smart cities (Sidewalk Labs), and transformer models (Google DeepMind).[18]\n",
        "\n",
        "Google Search and YouTube are the two most-visited websites worldwide followed by Facebook and Twitter (now known as X). Google is also the largest search engine, mapping and navigation application, email provider, office suite, online video platform, photo and cloud storage provider, mobile operating system, web browser, machine learning framework, and AI virtual assistant provider in the world as measured by market share.[19] On the list of most valuable brands, Google is ranked second by Forbes as of January 2022[20] and fourth by Interbrand as of February 2022.[21]\n",
        "\n",
        "The company has received significant criticism involving issues such as privacy concerns, tax avoidance, censorship, search neutrality, antitrust and abuse of its monopoly position. On August 5, 2024, D.C. Circuit Court Judge Amit P. Mehta ruled that Google held an illegal monopoly over Internet search.[22]\n",
        "\"\"\"\n",
        "\n",
        "print(\"before\")\n",
        "print(article)\n",
        "\n",
        "# apply re\n",
        "article = re.sub(r\"[:.]\\[[0-9]+\\](.*?)\\([0-9]+\\)|.?[([][0-9]+[])]|\\n|\\r\", r\"\", article)\n",
        "\n",
        "print(\"after:\")\n",
        "print(article)\n",
        "\n"
      ],
      "metadata": {
        "id": "yugTgwjXCVLv"
      },
      "execution_count": null,
      "outputs": []
    },
    {
      "cell_type": "code",
      "source": [
        "# encode by tokenizer\n",
        "inputs = tokenizer([article], max_length=1024, return_tensors=\"tf\", truncation=True)\n",
        "inputs"
      ],
      "metadata": {
        "id": "I-MJ3IgWPINs"
      },
      "execution_count": null,
      "outputs": []
    },
    {
      "cell_type": "code",
      "source": [
        "# change tensorflow type to numpy array\n",
        "inputs['input_ids'].numpy()"
      ],
      "metadata": {
        "id": "-5_OUApPQ_zT"
      },
      "execution_count": null,
      "outputs": []
    },
    {
      "cell_type": "code",
      "source": [
        "# runtime 30seconds\n",
        "# vocabulary id를 summary_ids에 저장\n",
        "summary_ids = model.generate(inputs[\"input_ids\"], num_beams=5, max_length=25)\n",
        "summary_ids"
      ],
      "metadata": {
        "id": "bzfUpdTlSF0F"
      },
      "execution_count": null,
      "outputs": []
    },
    {
      "cell_type": "code",
      "source": [
        "# summary_ids decode.\n",
        "print(''.join([tokenizer.decode(g,\n",
        "                                skip_special_token=True,\n",
        "                                clean_up_tokenization_space=False) for g in summary_ids]))"
      ],
      "metadata": {
        "id": "njUeWNKWUsFw"
      },
      "execution_count": null,
      "outputs": []
    },
    {
      "cell_type": "code",
      "source": [],
      "metadata": {
        "id": "P5S-lHD3VkI0"
      },
      "execution_count": null,
      "outputs": []
    }
  ]
}