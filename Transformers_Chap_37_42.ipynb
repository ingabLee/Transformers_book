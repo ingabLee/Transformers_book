{
  "nbformat": 4,
  "nbformat_minor": 0,
  "metadata": {
    "colab": {
      "provenance": [],
      "authorship_tag": "ABX9TyOuVmrJgpb5rAk3FnbKvWtK",
      "include_colab_link": true
    },
    "kernelspec": {
      "name": "python3",
      "display_name": "Python 3"
    },
    "language_info": {
      "name": "python"
    }
  },
  "cells": [
    {
      "cell_type": "markdown",
      "metadata": {
        "id": "view-in-github",
        "colab_type": "text"
      },
      "source": [
        "<a href=\"https://colab.research.google.com/github/ingabLee/Transformers_book/blob/main/Transformers_Chap_37_42.ipynb\" target=\"_parent\"><img src=\"https://colab.research.google.com/assets/colab-badge.svg\" alt=\"Open In Colab\"/></a>"
      ]
    },
    {
      "cell_type": "code",
      "execution_count": null,
      "metadata": {
        "id": "DqxZII-geJGi"
      },
      "outputs": [],
      "source": [
        "# install lib\n",
        "# datasets==1.4.1\n",
        "!pip install datasets\n",
        "!pip install transformers\n",
        "!pip install soundfile\n",
        "!pip install jiwer"
      ]
    },
    {
      "cell_type": "code",
      "source": [
        "import soundfile as sf\n",
        "import torch\n",
        "from datasets import load_dataset\n",
        "from transformers import Wav2Vec2ForCTC, Wav2Vec2Processor\n",
        "\n",
        "model_name = \"elgeish/wav2vec2-base-timit-asr\"\n",
        "\n",
        "# model, processor load\n",
        "process = Wav2Vec2Processor.from_pretrained(model_name)\n",
        "model = Wav2Vec2ForCTC.from_pretrained(model_name)\n",
        "\n",
        "# model eval change.\n",
        "model.eval()"
      ],
      "metadata": {
        "id": "Qd6OA27ke0P-"
      },
      "execution_count": null,
      "outputs": []
    },
    {
      "cell_type": "code",
      "source": [
        "dataset = load_dataset(\"timit_asr\")"
      ],
      "metadata": {
        "id": "gI9kUfG4f0j5"
      },
      "execution_count": null,
      "outputs": []
    },
    {
      "cell_type": "code",
      "source": [
        "import soundfile as sf\n",
        "import IPython.display as ipd\n",
        "import numpy as np\n",
        "import random\n",
        "\n",
        "# dataset['test']['files']에 있는 첫번째 데이터를 df.read에 투입\n",
        "speech,_ = sf.read(dataset['test']['file'][0])\n",
        "ipd.Audio(data=np.asarray(speech), autoplay=True, rate=16000)"
      ],
      "metadata": {
        "id": "aoKiDathjv-A"
      },
      "execution_count": null,
      "outputs": []
    },
    {
      "cell_type": "code",
      "source": [
        "# processor sound data\n",
        "inputs = process(speech, sampling_rate=16000, return_tensors=\"pt\", padding=\"longest\")\n",
        "\n",
        "# 음성 데이터 처리 결과의 input_values차원 확인\n",
        "inputs['input_values'].shape"
      ],
      "metadata": {
        "id": "yXLDkkHdk2x1"
      },
      "execution_count": null,
      "outputs": []
    },
    {
      "cell_type": "code",
      "source": [
        "# no gradient calc. 이는 모델 eval모드에 대한 필요한 조치\n",
        "with torch.no_grad():\n",
        "\n",
        "  # model inputs.input_values\n",
        "  outputs = model(inputs.input_values)\n",
        "\n",
        "  # print logit(outputs.logits) shape\n",
        "  print(outputs.logits.shape)\n",
        "\n",
        "  # output.logits의 마지막 축 기준으로 argmax적용\n",
        "  # 가장 큰 인덱스를 predicted_ids로 적용\n",
        "  predicted_ids = outputs.logits.argmax(-1)\n",
        "\n",
        "  print(predicted_ids)\n",
        "\n",
        "  # predicted_ids의 첫번째 데이터를 processor.tokenizer.batch_decode로 디코딩\n",
        "  # predicted_ids[0]은 입력문장 중 첫번째라는 뜻이나\n",
        "  # 입력무장을 하나만 넣었으므로 predicted_ids[0]은 입력문장 그자체임. ??\n",
        "  # 디코딩 결과 출력\n",
        "  print(f\"predicted:{process.tokenizer.batch_decode(predicted_ids)[0]}\")\n",
        "\n",
        "  # dataset['test']['text'][0] => 정답 출력\n",
        "  print(f\"answer:{dataset['test']['text'][0]}\")\n"
      ],
      "metadata": {
        "id": "Czt_6pfYmvvl"
      },
      "execution_count": null,
      "outputs": []
    },
    {
      "cell_type": "code",
      "source": [],
      "metadata": {
        "id": "2TxM9U6tn4q5"
      },
      "execution_count": null,
      "outputs": []
    }
  ]
}