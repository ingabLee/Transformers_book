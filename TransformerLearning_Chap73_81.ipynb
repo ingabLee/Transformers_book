{
  "nbformat": 4,
  "nbformat_minor": 0,
  "metadata": {
    "colab": {
      "provenance": [],
      "authorship_tag": "ABX9TyMNDE0R2RTDWOYlfyIrGofO",
      "include_colab_link": true
    },
    "kernelspec": {
      "name": "python3",
      "display_name": "Python 3"
    },
    "language_info": {
      "name": "python"
    }
  },
  "cells": [
    {
      "cell_type": "markdown",
      "metadata": {
        "id": "view-in-github",
        "colab_type": "text"
      },
      "source": [
        "<a href=\"https://colab.research.google.com/github/ingabLee/Transformers_book/blob/main/TransformerLearning_Chap73_81.ipynb\" target=\"_parent\"><img src=\"https://colab.research.google.com/assets/colab-badge.svg\" alt=\"Open In Colab\"/></a>"
      ]
    },
    {
      "cell_type": "code",
      "execution_count": null,
      "metadata": {
        "id": "NWPvx8s6gScq"
      },
      "outputs": [],
      "source": [
        "!pip install transformers\n",
        "!pip install sentencepiece\n",
        "\n",
        "from transformers import M2M100ForConditionalGeneration, M2M100Tokenizer\n",
        "\n",
        "# model, tokenizer load\n",
        "model = M2M100ForConditionalGeneration.from_pretrained(\"facebook/m2m100_418M\")\n",
        "tokenizer = M2M100Tokenizer.from_pretrained(\"facebook/m2m100_418M\")"
      ]
    },
    {
      "cell_type": "code",
      "source": [
        "chinese_text = \"生活是巧克力.\"\n",
        "\n",
        "# assign src lang zh(chinese)\n",
        "tokenizer.src_lang = \"zh\"\n",
        "\n",
        "# encoding tokenizer\n",
        "encoded_zh = tokenizer(chinese_text, return_tensors=\"pt\")\n",
        "\n",
        "# encoded_zh -> **kwargs 형식으로 generate에 입력\n",
        "# output lang is english\n",
        "generated_tokens = model.generate(**encoded_zh, forced_bos_token_id=tokenizer.get_lang_id(\"en\"))\n",
        "\n",
        "# decoding\n",
        "tokenizer.batch_decode(generated_tokens, skip_special_tokens=True)"
      ],
      "metadata": {
        "id": "unXIiN8rg9dk"
      },
      "execution_count": null,
      "outputs": []
    },
    {
      "cell_type": "code",
      "source": [
        "# src lang is korean.\n",
        "tokenizer.src_lang = \"ko\"\n",
        "korean_text = \"인생은 초콜릿과 다르다.\"\n",
        "\n",
        "encoded_ko = tokenizer(korean_text, return_tensors=\"pt\")\n",
        "\n",
        "generated_tokens = model.generate(**encoded_ko, forced_bos_token_id=tokenizer.get_lang_id(\"en\"))\n",
        "tokenizer.batch_decode(generated_tokens, skip_speical_tokens=True )"
      ],
      "metadata": {
        "id": "PtgrVS64srz7"
      },
      "execution_count": null,
      "outputs": []
    },
    {
      "cell_type": "code",
      "source": [],
      "metadata": {
        "id": "742PeaA6tUks"
      },
      "execution_count": null,
      "outputs": []
    }
  ]
}