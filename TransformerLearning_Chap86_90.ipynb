{
  "nbformat": 4,
  "nbformat_minor": 0,
  "metadata": {
    "colab": {
      "provenance": [],
      "authorship_tag": "ABX9TyPHogkkuLWrd6tURDBEoPKe",
      "include_colab_link": true
    },
    "kernelspec": {
      "name": "python3",
      "display_name": "Python 3"
    },
    "language_info": {
      "name": "python"
    }
  },
  "cells": [
    {
      "cell_type": "markdown",
      "metadata": {
        "id": "view-in-github",
        "colab_type": "text"
      },
      "source": [
        "<a href=\"https://colab.research.google.com/github/ingabLee/Transformers_book/blob/main/TransformerLearning_Chap86_90.ipynb\" target=\"_parent\"><img src=\"https://colab.research.google.com/assets/colab-badge.svg\" alt=\"Open In Colab\"/></a>"
      ]
    },
    {
      "cell_type": "code",
      "execution_count": null,
      "metadata": {
        "id": "Z9NR95aVEo6w"
      },
      "outputs": [],
      "source": [
        "!pip install transformers\n",
        "!pip install sentencepice"
      ]
    },
    {
      "cell_type": "code",
      "source": [
        "from transformers import AutoTokenizer, AutoModelWithLMHead\n",
        "\n",
        "# load tokenizer, model\n",
        "tokenizer = AutoTokenizer.from_pretrained(\"distilgpt2\")\n",
        "model = AutoModelWithLMHead.from_pretrained(\"distilgpt2\")"
      ],
      "metadata": {
        "id": "K2Wv1bsniKG2"
      },
      "execution_count": null,
      "outputs": []
    },
    {
      "cell_type": "code",
      "source": [
        "# encoding input text\n",
        "input_ids = tokenizer.encode(\"I like gpt because it's\", return_tensors='pt')\n",
        "\n",
        "#max output token 12, generate text\n",
        "greedy_output = model.generate(input_ids, max_length=12)\n",
        "\n",
        "# print output text and hypen * 100\n",
        "print(\"Output:\\n\" + 100 * '-')\n",
        "\n",
        "# model.generate()의 출력결과물 greedy_output의 첫번째 요소를 디코딩\n",
        "# [CLS], [SEP] 등 특수토큰의 디코딩 제외\n",
        "print(tokenizer.decode(greedy_output[0], skip_special_tokens=True))"
      ],
      "metadata": {
        "id": "gWOhMcybi3WV"
      },
      "execution_count": null,
      "outputs": []
    },
    {
      "cell_type": "code",
      "source": [
        "tokenizer = AutoTokenizer.from_pretrained(\"microsoft/DialoGPT-small\")\n",
        "model = AutoModelWithLMHead.from_pretrained(\"microsoft/DialoGPT-small\")\n",
        "\n",
        "input_ids= tokenizer.encode(\"I like gpt because it's\", return_tensors='pt')\n",
        "\n",
        "greedy_output = model.generate(input_ids, max_length=30)\n",
        "\n",
        "print(\"Output:\\n\" + 100 * '-')\n",
        "print(tokenizer.decode(greedy_output[0], skip_special_tokens=True))"
      ],
      "metadata": {
        "id": "sJUMdqERnDVI"
      },
      "execution_count": null,
      "outputs": []
    },
    {
      "cell_type": "code",
      "source": [],
      "metadata": {
        "id": "KsGT_axWosbS"
      },
      "execution_count": null,
      "outputs": []
    }
  ]
}