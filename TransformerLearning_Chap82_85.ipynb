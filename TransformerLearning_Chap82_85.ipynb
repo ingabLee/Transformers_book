{
  "nbformat": 4,
  "nbformat_minor": 0,
  "metadata": {
    "colab": {
      "provenance": [],
      "authorship_tag": "ABX9TyNfQ3oebwHPPMbfbEYpUZJi",
      "include_colab_link": true
    },
    "kernelspec": {
      "name": "python3",
      "display_name": "Python 3"
    },
    "language_info": {
      "name": "python"
    }
  },
  "cells": [
    {
      "cell_type": "markdown",
      "metadata": {
        "id": "view-in-github",
        "colab_type": "text"
      },
      "source": [
        "<a href=\"https://colab.research.google.com/github/ingabLee/Transformers_book/blob/main/TransformerLearning_Chap82_85.ipynb\" target=\"_parent\"><img src=\"https://colab.research.google.com/assets/colab-badge.svg\" alt=\"Open In Colab\"/></a>"
      ]
    },
    {
      "cell_type": "code",
      "execution_count": null,
      "metadata": {
        "colab": {
          "base_uri": "https://localhost:8080/"
        },
        "id": "jsakJXSTuKaX",
        "outputId": "2d0eaf46-159b-4555-fbcf-6236c668f15d"
      },
      "outputs": [
        {
          "output_type": "stream",
          "name": "stdout",
          "text": [
            "\u001b[31mERROR: Could not find a version that satisfies the requirement tansformers (from versions: none)\u001b[0m\u001b[31m\n",
            "\u001b[0m\u001b[31mERROR: No matching distribution found for tansformers\u001b[0m\u001b[31m\n",
            "\u001b[0mERROR: unknown command \"insall\" - maybe you meant \"install\"\n"
          ]
        }
      ],
      "source": [
        "!pip install tansformers\n",
        "!pip insall sentencepiece\n",
        "\n",
        "from transformers import MobileBertTokenizer, MobileBertModel\n",
        "import torch\n",
        "\n",
        "# load tokenizer and model\n",
        "tokenizer_mbert = MobileBertTokenizer.from_pretrained('google/mobilebert-uncased')\n",
        "model_bert = MobileBertModel.from_pretrained('google/mobilebert-uncased')\n",
        "\n",
        "model_mbert"
      ]
    },
    {
      "cell_type": "code",
      "source": [],
      "metadata": {
        "id": "i2SJ7B2cwRzK"
      },
      "execution_count": null,
      "outputs": []
    }
  ]
}