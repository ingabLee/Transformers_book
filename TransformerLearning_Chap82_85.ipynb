{
  "nbformat": 4,
  "nbformat_minor": 0,
  "metadata": {
    "colab": {
      "provenance": [],
      "authorship_tag": "ABX9TyOZDmkT5m9/HMAY+iSLYb+7",
      "include_colab_link": true
    },
    "kernelspec": {
      "name": "python3",
      "display_name": "Python 3"
    },
    "language_info": {
      "name": "python"
    }
  },
  "cells": [
    {
      "cell_type": "markdown",
      "metadata": {
        "id": "view-in-github",
        "colab_type": "text"
      },
      "source": [
        "<a href=\"https://colab.research.google.com/github/ingabLee/Transformers_book/blob/main/TransformerLearning_Chap82_85.ipynb\" target=\"_parent\"><img src=\"https://colab.research.google.com/assets/colab-badge.svg\" alt=\"Open In Colab\"/></a>"
      ]
    },
    {
      "cell_type": "code",
      "execution_count": null,
      "metadata": {
        "id": "jsakJXSTuKaX"
      },
      "outputs": [],
      "source": [
        "!pip install tansformers\n",
        "!pip install sentencepiece\n",
        "\n",
        "from transformers import MobileBertTokenizer, MobileBertModel\n",
        "import torch\n",
        "\n",
        "# load tokenizer and model\n",
        "tokenizer_mbert = MobileBertTokenizer.from_pretrained('google/mobilebert-uncased')\n",
        "model_mbert = MobileBertModel.from_pretrained('google/mobilebert-uncased')\n",
        "\n",
        "model_mbert"
      ]
    },
    {
      "cell_type": "code",
      "source": [
        "from transformers import BertTokenizer, BertModel\n",
        "\n",
        "# load model, tokenizer\n",
        "tokenizer_bert = BertTokenizer.from_pretrained('bert-base-uncased')\n",
        "model_bert = BertModel.from_pretrained('bert-base-uncased')\n",
        "\n",
        "# display model_bert info\n",
        "model_bert"
      ],
      "metadata": {
        "id": "i2SJ7B2cwRzK"
      },
      "execution_count": null,
      "outputs": []
    },
    {
      "cell_type": "code",
      "source": [
        "import torch\n",
        "text = \"Mobile bert is more practical than bert.\"\n",
        "\n",
        "# mobile bert encoding\n",
        "inputs = tokenizer_mbert.tokenize(text)\n",
        "print(inputs)\n",
        "\n",
        "# bert tokenizing\n",
        "inputs = tokenizer_bert.tokenize(text)\n",
        "print(inputs)"
      ],
      "metadata": {
        "id": "MmQUmUWfxOax"
      },
      "execution_count": null,
      "outputs": []
    },
    {
      "cell_type": "code",
      "source": [
        "#mobile-bert encode\n",
        "inputs = tokenizer_mbert.encode(text)\n",
        "\n",
        "#tensor torch타입으로 만든 inputs의 첫번째(0)에 1인 차원을 추가해서 mobile-bert에 투입\n",
        "outputs = model_mbert(torch.tensor(inputs).unsqueeze(0))\n",
        "\n",
        "#mobile bert output shape\n",
        "print(outputs.last_hidden_state.shape)\n",
        "\n",
        "#bert encoding\n",
        "inputs = tokenizer_bert.encode(text)\n",
        "\n",
        "outputs = model_bert(torch.tensor(inputs).unsqueeze(0))\n",
        "# bert output shape\n",
        "print(outputs.last_hidden_state.shape)"
      ],
      "metadata": {
        "id": "4JKK9netyjqP"
      },
      "execution_count": null,
      "outputs": []
    },
    {
      "cell_type": "code",
      "source": [
        "from transformers import MobileBertTokenizer, MobileBertForMaskedLM\n",
        "import torch\n",
        "\n",
        "# load tokenizer, model\n",
        "tokenizer = MobileBertTokenizer.from_pretrained('google/mobilebert-uncased')\n",
        "model = MobileBertForMaskedLM.from_pretrained('google/mobilebert-uncased')\n",
        "\n",
        "# mask한 input과 answer tokenizing\n",
        "inputs = tokenizer(\"The capital of korea is [MASK].\", return_tensors=\"pt\")\n",
        "labels = tokenizer(\"The capital of korea is Seoul.\", return_tensors=\"pt\")[\"input_ids\"]\n",
        "\n",
        "# tokenizing결과인 inputs(**kwargs) 과 labels을 모델에 입력\n",
        "outputs = model(**inputs, labels=labels)\n",
        "\n",
        "# loss\n",
        "loss = outputs.loss\n",
        "\n",
        "# logit\n",
        "logits = outputs.logits\n",
        "\n",
        "# logits.argmax(-1) : logit last tensor value argmax().\n",
        "# logits.argmax(-1) 실행결과의 첫번째 원소가 logits.argmax(-1)[0]\n",
        "# [tokenizer.~.argmaxx(-1)[0]]\n",
        "# logits.argmax(-1) 실행결과의 첫번째 원소의 구성 요소들을 하나씩 변수 i로 추출하여\n",
        "# item()으로 파이썬 숫자화 한뒤, i.item()을 디코딩하고 빈공백은 없앰.\n",
        "\n",
        "# 리스트 내포는 for 반복 루프가 있기때문에 처리 결과가 반복적으로 발생하는데\n",
        "# 발생 결과에서 [1:-1]은 맨 처음요소와 맨 마지막 요소 제거\n",
        "# 이렇게 처리된 결과를 join()으로 순차적으로 저장후 print으로 출력\n",
        "print(' '.join([tokenizer.decode(i.item()).replace(\" \", \"\") for i in logits.argmax(-1)[0]][1:-1]))"
      ],
      "metadata": {
        "id": "G10vru8G1XDz"
      },
      "execution_count": null,
      "outputs": []
    },
    {
      "cell_type": "code",
      "source": [
        "# BERT 추론\n",
        "# Mobile BERT때와 비굑하여 토큰나이저 와 모델이 다름 주의\n",
        "from transformers import BertTokenizer, BertForMaskedLM\n",
        "import torch\n",
        "\n",
        "# load tokenizer, model\n",
        "tokenizer = BertTokenizer.from_pretrained('bert-base-uncased')\n",
        "model = BertForMaskedLM.from_pretrained('bert-base-uncased')\n",
        "\n",
        "# mask한 input과 answer tokenizing\n",
        "inputs = tokenizer(\"The capital of korea is [MASK].\", return_tensors=\"pt\")\n",
        "labels = tokenizer(\"The capital of korea is Seoul.\", return_tensors=\"pt\")[\"input_ids\"]\n",
        "\n",
        "# tokenizing결과인 inputs(**kwargs) 과 labels을 모델에 입력\n",
        "outputs = model(**inputs, labels=labels)\n",
        "\n",
        "# loss\n",
        "loss = outputs.loss\n",
        "\n",
        "# logit\n",
        "logits = outputs.logits\n",
        "\n",
        "# logits.argmax(-1) : logit last tensor value argmax().\n",
        "# logits.argmax(-1) 실행결과의 첫번째 원소가 logits.argmax(-1)[0]\n",
        "# [tokenizer.~.argmaxx(-1)[0]]\n",
        "# logits.argmax(-1) 실행결과의 첫번째 원소의 구성 요소들을 하나씩 변수 i로 추출하여\n",
        "# item()으로 파이썬 숫자화 한뒤, i.item()을 디코딩하고 빈공백은 없앰.\n",
        "\n",
        "# 리스트 내포는 for 반복 루프가 있기때문에 처리 결과가 반복적으로 발생하는데\n",
        "# 발생 결과에서 [1:-1]은 맨 처음요소와 맨 마지막 요소 제거\n",
        "# 이렇게 처리된 결과를 join()으로 순차적으로 저장후 print으로 출력\n",
        "print(' '.join([tokenizer.decode(i.item()).replace(\" \", \"\") for i in logits.argmax(-1)[0]][1:-1]))"
      ],
      "metadata": {
        "id": "8jQV-tP8DF6f"
      },
      "execution_count": null,
      "outputs": []
    },
    {
      "cell_type": "code",
      "source": [],
      "metadata": {
        "id": "VUUr4-f9EBk_"
      },
      "execution_count": null,
      "outputs": []
    }
  ]
}