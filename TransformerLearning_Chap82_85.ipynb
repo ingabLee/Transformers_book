{
  "nbformat": 4,
  "nbformat_minor": 0,
  "metadata": {
    "colab": {
      "provenance": [],
      "authorship_tag": "ABX9TyM1hW2PZMNLYpMlvykGyxtr",
      "include_colab_link": true
    },
    "kernelspec": {
      "name": "python3",
      "display_name": "Python 3"
    },
    "language_info": {
      "name": "python"
    }
  },
  "cells": [
    {
      "cell_type": "markdown",
      "metadata": {
        "id": "view-in-github",
        "colab_type": "text"
      },
      "source": [
        "<a href=\"https://colab.research.google.com/github/ingabLee/Transformers_book/blob/main/TransformerLearning_Chap82_85.ipynb\" target=\"_parent\"><img src=\"https://colab.research.google.com/assets/colab-badge.svg\" alt=\"Open In Colab\"/></a>"
      ]
    },
    {
      "cell_type": "code",
      "execution_count": null,
      "metadata": {
        "id": "jsakJXSTuKaX"
      },
      "outputs": [],
      "source": [
        "!pip install tansformers\n",
        "!pip install sentencepiece\n",
        "\n",
        "from transformers import MobileBertTokenizer, MobileBertModel\n",
        "import torch\n",
        "\n",
        "# load tokenizer and model\n",
        "tokenizer_mbert = MobileBertTokenizer.from_pretrained('google/mobilebert-uncased')\n",
        "model_mbert = MobileBertModel.from_pretrained('google/mobilebert-uncased')\n",
        "\n",
        "model_mbert"
      ]
    },
    {
      "cell_type": "code",
      "source": [
        "from transformers import BertTokenizer, BertModel\n",
        "\n",
        "# load model, tokenizer\n",
        "tokenizer_bert = BertTokenizer.from_pretrained('bert-base-uncased')\n",
        "model_bert = BertModel.from_pretrained('bert-base-uncased')\n",
        "\n",
        "# display model_bert info\n",
        "model_bert"
      ],
      "metadata": {
        "id": "i2SJ7B2cwRzK"
      },
      "execution_count": null,
      "outputs": []
    },
    {
      "cell_type": "code",
      "source": [
        "import torch\n",
        "text = \"Mobile bert is more practical than bert.\"\n",
        "\n",
        "# mobile bert encoding\n",
        "inputs = tokenizer_mbert.tokenize(text)\n",
        "print(inputs)\n",
        "\n",
        "# bert tokenizing\n",
        "inputs = tokenizer_bert.tokenize(text)\n",
        "print(inputs)"
      ],
      "metadata": {
        "id": "MmQUmUWfxOax"
      },
      "execution_count": null,
      "outputs": []
    },
    {
      "cell_type": "code",
      "source": [
        "#mobile-bert encode\n",
        "inputs = tokenizer_mbert.encode(text)\n",
        "\n",
        "#tensor torch타입으로 만든 inputs의 첫번째(0)에 1인 차원을 추가해서 mobile-bert에 투입\n",
        "outputs = model_mbert(torch.tensor(inputs).unsqueeze(0))\n",
        "\n",
        "#mobile bert output shape\n",
        "print(outputs.last_hidden_state.shape)\n",
        "\n",
        "#bert encoding\n",
        "inputs = tokenizer_bert.encode(text)\n",
        "\n",
        "outputs = model_bert(torch.tensor(inputs).unsqueeze(0))\n",
        "# bert output shape\n",
        "print(outputs.last_hidden_state.shape)"
      ],
      "metadata": {
        "id": "4JKK9netyjqP"
      },
      "execution_count": null,
      "outputs": []
    },
    {
      "cell_type": "code",
      "source": [],
      "metadata": {
        "id": "G10vru8G1XDz"
      },
      "execution_count": null,
      "outputs": []
    }
  ]
}