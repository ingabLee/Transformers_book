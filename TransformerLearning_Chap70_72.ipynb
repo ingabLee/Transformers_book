{
  "nbformat": 4,
  "nbformat_minor": 0,
  "metadata": {
    "colab": {
      "provenance": [],
      "authorship_tag": "ABX9TyOxIV0xvco0wlG8pBq7u0az",
      "include_colab_link": true
    },
    "kernelspec": {
      "name": "python3",
      "display_name": "Python 3"
    },
    "language_info": {
      "name": "python"
    }
  },
  "cells": [
    {
      "cell_type": "markdown",
      "metadata": {
        "id": "view-in-github",
        "colab_type": "text"
      },
      "source": [
        "<a href=\"https://colab.research.google.com/github/ingabLee/Transformers_book/blob/main/TransformerLearning_Chap70_72.ipynb\" target=\"_parent\"><img src=\"https://colab.research.google.com/assets/colab-badge.svg\" alt=\"Open In Colab\"/></a>"
      ]
    },
    {
      "cell_type": "code",
      "execution_count": null,
      "metadata": {
        "id": "UVIDmwMIDMcy"
      },
      "outputs": [],
      "source": [
        "!pip install transformers\n",
        "!pip install sentencepice\n",
        "\n",
        "from transformers import PegasusForConditionalGeneration, PegasusTokenizer\n",
        "import torch\n",
        "\n",
        "# model name\n",
        "model_name = 'google/pegasus-xsum'\n",
        "\n",
        "# if avaible gpu else cpu\n",
        "device = 'cuda' if torch.cuda.is_available() else 'cpu'\n",
        "\n",
        "# load tokenizer, model\n",
        "tokenizer = PegasusTokenizer.from_pretrained(model_name)\n",
        "model = PegasusForConditionalGeneration.from_pretrained(model_name).to(device)"
      ]
    },
    {
      "cell_type": "code",
      "source": [
        "inputs = [\n",
        "    \"\"\"\n",
        "    Pretraining large neural language models, such as BERT, has led to impressive gains on many natural language processing (NLP) tasks.\n",
        "    However, most pretraining efforts focus on general domain corpora, such as newswire and Web.\n",
        "    A prevailing assumption is that even domain-specific pretraining can benefit by starting from general-domain language models.\n",
        "    Recent work shows that for domains with abundant unlabeled text, such as biomedicine, pretraining language models from scratch results in substantial gains over continual pretraining of general-domain language models.\n",
        "    \"\"\"\n",
        "]\n",
        "\n",
        "# encoding tokenizing\n",
        "batch = tokenizer(inputs, truncation=True, padding='longest', return_tensors='pt').to(device)"
      ],
      "metadata": {
        "id": "R74Af1QvdSKv"
      },
      "execution_count": null,
      "outputs": []
    },
    {
      "cell_type": "code",
      "source": [
        "# batch -> **kwargs\n",
        "# model.generate() : 요약문장생성 하고 그결과를 출력\n",
        "translated = model.generate(**batch)\n",
        "\n",
        "# encoding 요약 문장 -> decoding. (디코딩시 [cls]등 특수문자 무시)\n",
        "generated_text = tokenizer.batch_decode(translated, skip_special_tokens=True)\n",
        "\n",
        "# print decoded tensor first elment\n",
        "print(generated_text[0])"
      ],
      "metadata": {
        "id": "OfOHQvfDd8JU"
      },
      "execution_count": null,
      "outputs": []
    },
    {
      "cell_type": "code",
      "source": [],
      "metadata": {
        "id": "3izezjg9epuQ"
      },
      "execution_count": null,
      "outputs": []
    }
  ]
}