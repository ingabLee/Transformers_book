{
  "nbformat": 4,
  "nbformat_minor": 0,
  "metadata": {
    "colab": {
      "provenance": [],
      "authorship_tag": "ABX9TyOoqS51Fdjo4XXGD2v6AmpJ",
      "include_colab_link": true
    },
    "kernelspec": {
      "name": "python3",
      "display_name": "Python 3"
    },
    "language_info": {
      "name": "python"
    }
  },
  "cells": [
    {
      "cell_type": "markdown",
      "metadata": {
        "id": "view-in-github",
        "colab_type": "text"
      },
      "source": [
        "<a href=\"https://colab.research.google.com/github/ingabLee/Transformers_book/blob/main/TransformerLearning_Chap91_101.ipynb\" target=\"_parent\"><img src=\"https://colab.research.google.com/assets/colab-badge.svg\" alt=\"Open In Colab\"/></a>"
      ]
    },
    {
      "cell_type": "code",
      "execution_count": null,
      "metadata": {
        "id": "AsfunxIMrKdz"
      },
      "outputs": [],
      "source": [
        "!pip install wikipedia\n",
        "\n",
        "import wikipedia\n",
        "\n",
        "keyword = \"Moderna\"\n",
        "\n",
        "#set lang en\n",
        "wikipedia.set_lang(\"en\")\n",
        "\n",
        "# search keyword and display output\n",
        "search_response = wikipedia.search(keyword)\n",
        "print(search_response)"
      ]
    },
    {
      "cell_type": "code",
      "source": [
        "search_response[2]\n",
        "\n",
        "# search_response의 세번째 요소를 키워드로 위키피디아 검색\n",
        "moderna_text_t = wikipedia.page(search_response[2])\n",
        "type(moderna_text_t)\n",
        "\n",
        "# search_response 세번째 요소를 키워드로 위키피디아 검색결과 본문 출력\n",
        "moderna_text = wikipedia.page(search_response[2]).content\n",
        "moderna_text"
      ],
      "metadata": {
        "id": "8k-xF_FXrp9o"
      },
      "execution_count": null,
      "outputs": []
    },
    {
      "cell_type": "code",
      "source": [
        "keyword = \"PFizer\"\n",
        "\n",
        "wikipedia.set_lang(\"en\")\n",
        "search_response = wikipedia.search(keyword)\n",
        "print(search_response)\n",
        "\n",
        "pfizer_text = wikipedia.page(search_response[1]).content"
      ],
      "metadata": {
        "id": "ALcs6OaI0amP"
      },
      "execution_count": null,
      "outputs": []
    },
    {
      "cell_type": "code",
      "source": [
        "from transformers import pipeline, AutoTokenizer\n",
        "\n",
        "# 파이프라인 인스턴스화\n",
        "get_feature = pipeline('feature-extraction', model='bert-base-uncased', tokenizer='bert-base-uncased')"
      ],
      "metadata": {
        "id": "Qy-MVPEk1WWy"
      },
      "execution_count": null,
      "outputs": []
    },
    {
      "cell_type": "code",
      "source": [
        "sample_word = \"vaccine\"\n",
        "\n",
        "# sample word를 파이프라인을 인스턴스화한 get_feature에 투입\n",
        "hidden_state = get_feature(sample_word)\n",
        "\n",
        "import numpy as np\n",
        "np.array(hidden_state).shape"
      ],
      "metadata": {
        "id": "xdIMa6Ix2x-3"
      },
      "execution_count": null,
      "outputs": []
    },
    {
      "cell_type": "code",
      "source": [
        "# load tokenizer\n",
        "tokenizer = AutoTokenizer.from_pretrained('bert-base-uncased')\n",
        "\n",
        "# sample word를 토큰나이징한 결과의 input_ids를 디코딩\n",
        "print(tokenizer.decode(tokenizer(sample_word)[\"input_ids\"]))"
      ],
      "metadata": {
        "id": "OzR1cBKH4XVw"
      },
      "execution_count": null,
      "outputs": []
    },
    {
      "cell_type": "code",
      "source": [
        "# get_cls_vector 함수 정의\n",
        "def get_cls_vector(sample_text):\n",
        "  hidden_state = get_feature(sample_text, padding=True, truncation=True, max_length=512)\n",
        "\n",
        "  # hidden_state를 넘파이 얼레이 타입으로 바꾸고 첫번째 행의 첫번째 열 요소를 변수 cls_vec에 저장\n",
        "  cls_vec = np.array(hidden_state)[0, 0]\n",
        "  return cls_vec\n",
        "\n",
        "# 입력 텍스트 줄이 바뀔때마다 분리후 저장\n",
        "ml = moderna_text.split(\"\\n\")\n",
        "\n",
        "pfzl = pfizer_text.split(\"\\n\")\n",
        "\n",
        "# 입력 텍스트중에 공백은 제거\n",
        "ml = [text for text in ml if text != \"\"]\n",
        "pfzl= [text for text in pfzl if text != \"\"]\n"
      ],
      "metadata": {
        "id": "9F8LuArw7hkR"
      },
      "execution_count": null,
      "outputs": []
    },
    {
      "cell_type": "code",
      "source": [
        "# runtime 50sec\n",
        "# ml 및 pfzl에 담긴 텍스트를 get_cls_vector함수에 입력후 그 결과를 넘파이 어레이로 변환\n",
        "moderna_vecs = np.array([get_cls_vector(text) for text in ml])\n",
        "pfizer_vecs = np.array([get_cls_vector(text) for text in pfzl])\n",
        "\n",
        "# check moderna_vecs, pfizer_vecs차원 확인\n",
        "print(moderna_vecs.shape)\n",
        "print(pfizer_vecs.shape)"
      ],
      "metadata": {
        "id": "ebHuC8xi_ULS"
      },
      "execution_count": null,
      "outputs": []
    },
    {
      "cell_type": "code",
      "source": [
        "# empty dictionary\n",
        "pfizer_dics = {}\n",
        "\n",
        "# for loop for pfizer\n",
        "for text in pfzl:\n",
        "  # text tokenizing result for loop\n",
        "  for token in tokenizer.tokenize(text):\n",
        "\n",
        "    # token length > 5\n",
        "    if len(token) > 5:\n",
        "      # pfizer_dic not exist key\n",
        "      if token not in pfizer_dics:\n",
        "        #add new  dictionary item\n",
        "        pfizer_dics[token] = 1\n",
        "\n",
        "      # exist key, add 1\n",
        "      else:\n",
        "        pfizer_dics[token] += 1\n",
        "\n",
        "# pfizer_dics.items()는 pfizer_dics 딕셔너리 키와 값 출력\n",
        "# sorted(pfizer_dic.items(), key=lambda x:-x[1])\n",
        "# dictionary key value기준으로 내림차순 정렬\n",
        "# [:30] 결과물의 첫 30개 출력\n",
        "sorted(pfizer_dics.items(), key=lambda x:-x[1])[:30]"
      ],
      "metadata": {
        "id": "dzUqrzG6AVub"
      },
      "execution_count": null,
      "outputs": []
    },
    {
      "cell_type": "code",
      "source": [
        "ml_dics = {}\n",
        "\n",
        "for text in ml:\n",
        "  for token in tokenizer.tokenize(text):\n",
        "    if len(token) > 5:\n",
        "      if token not in ml_dics:\n",
        "        ml_dics[token] = 1\n",
        "      else:\n",
        "        ml_dics[token] += 1\n",
        "\n",
        "sorted(ml_dics.items(), key=lambda x:-x[1])[:30]"
      ],
      "metadata": {
        "id": "MXYvc_nhDrpG"
      },
      "execution_count": null,
      "outputs": []
    },
    {
      "cell_type": "code",
      "source": [
        "# TSNE import\n",
        "from sklearn.manifold import TSNE\n",
        "\n",
        "# TSNE parameter setting\n",
        "tsne = TSNE(n_components=2, random_state=0)\n",
        "\n",
        "# TSNE에 moderna_vecs투입후 적용(fit_transfrom)\n",
        "moderna_vecs_reduced = tsne.fit_transform(moderna_vecs)\n",
        "\n",
        "# plot display\n",
        "import matplotlib.pyplot as plt\n",
        "plt.figure(figsize=(13, 7))\n",
        "\n",
        "# moderna_vecs_reduced[:, 0] -> 첫번째 컬럼값의 모든 행 데이터 의미\n",
        "# moderna_vecs_reduced[:, 1] -> 두번째 컬럼값의 모든 행 데이터 의미\n",
        "# c는 작은원으로 찍히는 데이터의 색상의 종류로 len(ml)개수 만큼 설정\n",
        "plt.scatter(moderna_vecs_reduced[:, 0], moderna_vecs_reduced[:, 1], c=[i for i in range(len(ml))])\n",
        "\n",
        "#graph right color bar\n",
        "plt.colorbar()\n",
        "plt.show();"
      ],
      "metadata": {
        "id": "kC0X6yTlEdpe"
      },
      "execution_count": null,
      "outputs": []
    },
    {
      "cell_type": "code",
      "source": [
        "tsne = TSNE(n_components=2, random_state=0)\n",
        "pfizer_vecs_reduced = tsne.fit_transform(pfizer_vecs)\n",
        "\n",
        "plt.figure(figsize=(13, 7))\n",
        "plt.scatter(pfizer_vecs_reduced[:, 0], pfizer_vecs_reduced[:, 1],\n",
        "            c=[i for i in range(len(pfzl))])\n",
        "plt.colorbar()\n",
        "plt.show();"
      ],
      "metadata": {
        "id": "KBmklAyBH_sz"
      },
      "execution_count": null,
      "outputs": []
    },
    {
      "cell_type": "code",
      "source": [],
      "metadata": {
        "id": "41qWNWPgJStx"
      },
      "execution_count": null,
      "outputs": []
    }
  ]
}