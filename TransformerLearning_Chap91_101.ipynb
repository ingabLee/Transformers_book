{
  "nbformat": 4,
  "nbformat_minor": 0,
  "metadata": {
    "colab": {
      "provenance": [],
      "authorship_tag": "ABX9TyO2r1lIHAqozR8sMttBitY7",
      "include_colab_link": true
    },
    "kernelspec": {
      "name": "python3",
      "display_name": "Python 3"
    },
    "language_info": {
      "name": "python"
    }
  },
  "cells": [
    {
      "cell_type": "markdown",
      "metadata": {
        "id": "view-in-github",
        "colab_type": "text"
      },
      "source": [
        "<a href=\"https://colab.research.google.com/github/ingabLee/Transformers_book/blob/main/TransformerLearning_Chap91_101.ipynb\" target=\"_parent\"><img src=\"https://colab.research.google.com/assets/colab-badge.svg\" alt=\"Open In Colab\"/></a>"
      ]
    },
    {
      "cell_type": "code",
      "execution_count": null,
      "metadata": {
        "id": "AsfunxIMrKdz"
      },
      "outputs": [],
      "source": [
        "!pip install wikipedia\n",
        "\n",
        "import wikipedia\n",
        "\n",
        "keyword = \"Moderna\"\n",
        "\n",
        "#set lang en\n",
        "wikipedia.set_lang(\"en\")\n",
        "\n",
        "# search keyword and display output\n",
        "search_response = wikipedia.search(keyword)\n",
        "print(search_response)"
      ]
    },
    {
      "cell_type": "code",
      "source": [
        "search_response[2]\n",
        "\n",
        "# search_response의 세번째 요소를 키워드로 위키피디아 검색\n",
        "moderna_text_t = wikipedia.page(search_response[2])\n",
        "type(moderna_text_t)\n",
        "\n",
        "# search_response 세번째 요소를 키워드로 위키피디아 검색결과 본문 출력\n",
        "moderna_text = wikipedia.page(search_response[2]).content\n",
        "moderna_text"
      ],
      "metadata": {
        "id": "8k-xF_FXrp9o"
      },
      "execution_count": null,
      "outputs": []
    },
    {
      "cell_type": "code",
      "source": [
        "keyword = \"PFizer\"\n",
        "\n",
        "wikipedia.set_lang(\"en\")\n",
        "search_response = wikipedia.search(keyword)\n",
        "print(search_response)\n",
        "\n",
        "pfizer_text = wikipedia.page(search_response[1]).content"
      ],
      "metadata": {
        "id": "ALcs6OaI0amP"
      },
      "execution_count": null,
      "outputs": []
    },
    {
      "cell_type": "code",
      "source": [
        "from transformers import pipeline, AutoTokenizer\n",
        "\n",
        "# 파이프라인 인스턴스화\n",
        "get_feature = pipeline('feature-extraction', model='bert-base-uncased', tokenizer='bert-base-uncased')"
      ],
      "metadata": {
        "id": "Qy-MVPEk1WWy"
      },
      "execution_count": null,
      "outputs": []
    },
    {
      "cell_type": "code",
      "source": [
        "sample_word = \"vaccine\"\n",
        "\n",
        "# sample word를 파이프라인을 인스턴스화한 get_feature에 투입\n",
        "hidden_state = get_feature(sample_word)\n",
        "\n",
        "import numpy as np\n",
        "np.array(hidden_state).shape"
      ],
      "metadata": {
        "id": "xdIMa6Ix2x-3"
      },
      "execution_count": null,
      "outputs": []
    },
    {
      "cell_type": "code",
      "source": [
        "# load tokenizer\n",
        "tokenizer = AutoTokenizer.from_pretrained('bert-base-uncased')\n",
        "\n",
        "# sample word를 토큰나이징한 결과의 input_ids를 디코딩\n",
        "print(tokenizer.decode(tokenizer(sample_word)[\"input_ids\"]))"
      ],
      "metadata": {
        "id": "OzR1cBKH4XVw"
      },
      "execution_count": null,
      "outputs": []
    },
    {
      "cell_type": "code",
      "source": [
        "# get_cls_vector 함수 정의\n",
        "def get_cls_vector(sample_text):\n",
        "  hidden_state = get_feature(sample_text, padding=True, truncation=True, max_length=512)\n",
        "\n",
        "  # hidden_state를 넘파이 얼레이 타입으로 바꾸고 첫번째 행의 첫번째 열 요소를 변수 cls_vec에 저장\n",
        "  cls_vec = np.array(hidden_state)[0, 0]\n",
        "  return cls_vec\n",
        "\n",
        "# 입력 텍스트 줄이 바뀔때마다 분리후 저장\n",
        "ml = moderna_text.split(\"\\n\")\n",
        "\n",
        "pfzl = pfizer_text.split(\"\\n\")\n",
        "\n",
        "# 입력 텍스트중에 공백은 제거\n",
        "ml = [text for text in ml if text != \"\"]\n",
        "pfzl= [text for text in pfzl if text != \"\"]\n"
      ],
      "metadata": {
        "id": "9F8LuArw7hkR"
      },
      "execution_count": null,
      "outputs": []
    },
    {
      "cell_type": "code",
      "source": [],
      "metadata": {
        "id": "ebHuC8xi_ULS"
      },
      "execution_count": null,
      "outputs": []
    }
  ]
}