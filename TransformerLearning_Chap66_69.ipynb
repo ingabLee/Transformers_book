{
  "nbformat": 4,
  "nbformat_minor": 0,
  "metadata": {
    "colab": {
      "provenance": [],
      "authorship_tag": "ABX9TyNxm+y8mbfn/Mldl9OTHgqn",
      "include_colab_link": true
    },
    "kernelspec": {
      "name": "python3",
      "display_name": "Python 3"
    },
    "language_info": {
      "name": "python"
    }
  },
  "cells": [
    {
      "cell_type": "markdown",
      "metadata": {
        "id": "view-in-github",
        "colab_type": "text"
      },
      "source": [
        "<a href=\"https://colab.research.google.com/github/ingabLee/Transformers_book/blob/main/TransformerLearning_Chap66_69.ipynb\" target=\"_parent\"><img src=\"https://colab.research.google.com/assets/colab-badge.svg\" alt=\"Open In Colab\"/></a>"
      ]
    },
    {
      "cell_type": "code",
      "execution_count": null,
      "metadata": {
        "id": "n0NPM7c41PLv"
      },
      "outputs": [],
      "source": [
        "!pip install transformers\n",
        "!pip install sentencepiece\n",
        "\n",
        "from transformers import BigBirdTokenizer, BigBirdForMaskedLM\n",
        "\n",
        "import torch\n",
        "\n",
        "# load tokenizer\n",
        "tokenizer = BigBirdTokenizer.from_pretrained('google/bigbird-roberta-base')\n",
        "model = BigBirdForMaskedLM.from_pretrained('google/bigbird-roberta-base')\n",
        "\n",
        "model"
      ]
    },
    {
      "cell_type": "code",
      "source": [
        "inputs = [\n",
        "    \"I like reading [MASK].\",\n",
        "    \"I like driving a [MASK].\",\n",
        "    \"The world is facing with a [MASK] [MASK] crisis. We are all suffering from infectious disease.\"\n",
        "]\n",
        "\n",
        "answers = [\n",
        "    \"I like reading book.\",\n",
        "    \"I like driving a car.\",\n",
        "    \"The world is facing with a pandemic crisis. We are all suffering from infectious disease.\"\n",
        "]"
      ],
      "metadata": {
        "id": "hTAz5ZZH2j1V"
      },
      "execution_count": null,
      "outputs": []
    },
    {
      "cell_type": "code",
      "source": [
        "# empty list var\n",
        "encoded_inputs = []\n",
        "encoded_labels = []\n",
        "\n",
        "# inputs, answers -> zip, assign i, l\n",
        "for i, l in zip(inputs, answers):\n",
        "  # append encoded token\n",
        "  # 특히 아래 두번째 코드는 l변수의 tokenizer 인코딩후 input_ids만 저장\n",
        "  encoded_inputs.append(tokenizer(i, return_tensors='pt'))\n",
        "  encoded_labels.append(tokenizer(l, return_tensors='pt')['input_ids'])"
      ],
      "metadata": {
        "id": "_saMBthI4r6_"
      },
      "execution_count": null,
      "outputs": []
    },
    {
      "cell_type": "code",
      "source": [
        "# encoded_inputs, encoded_labels -> zip\n",
        "# zip -> input, label,  for loop\n",
        "for input, label in zip(encoded_inputs, encoded_labels):\n",
        "\n",
        "  # input,label -> model, key + value : **kwargs\n",
        "  outputs = model(**input, labels=label)\n",
        "\n",
        "  # get loss\n",
        "  loss = outputs.loss\n",
        "\n",
        "  # get logits\n",
        "  logits = outputs.logits\n",
        "\n",
        "  # print loss. item() -> tensor loss -> python number\n",
        "  print(f\"loss:{loss.item()}\")\n",
        "\n",
        "  # len(logits[0]) : first dim item count\n",
        "  # range(1,len(logits[0])) 1 ~\n",
        "  # logits[0][i] : first logits array i element\n",
        "  # argmax(-1) : get logits[0][i] last axis maximun value index\n",
        "  # max index decode -> print\n",
        "  print(f\"predictionn : { ' '.join([tokenizer.decode(logits[0][i].argmax(-1)) for i in range(1,len(logits[0]))])}\")\n",
        "\n",
        "  # label[0][:-1] :  label[0] second item ~ second last item\n",
        "  # print label[0][1:-1] decode\n",
        "  print(f\"answer : {tokenizer.decode(label[0][1:-1])}\")\n",
        "  # change line\n",
        "  print('\\n')"
      ],
      "metadata": {
        "id": "9E7YZME599LI"
      },
      "execution_count": null,
      "outputs": []
    },
    {
      "cell_type": "code",
      "source": [],
      "metadata": {
        "id": "V2abHlDrA4vv"
      },
      "execution_count": null,
      "outputs": []
    }
  ]
}