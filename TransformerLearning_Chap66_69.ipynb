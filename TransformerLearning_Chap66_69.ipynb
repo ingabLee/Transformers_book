{
  "nbformat": 4,
  "nbformat_minor": 0,
  "metadata": {
    "colab": {
      "provenance": [],
      "authorship_tag": "ABX9TyMc/Vxl8Vmiq30I0MhXZC9L",
      "include_colab_link": true
    },
    "kernelspec": {
      "name": "python3",
      "display_name": "Python 3"
    },
    "language_info": {
      "name": "python"
    }
  },
  "cells": [
    {
      "cell_type": "markdown",
      "metadata": {
        "id": "view-in-github",
        "colab_type": "text"
      },
      "source": [
        "<a href=\"https://colab.research.google.com/github/ingabLee/Transformers_book/blob/main/TransformerLearning_Chap66_69.ipynb\" target=\"_parent\"><img src=\"https://colab.research.google.com/assets/colab-badge.svg\" alt=\"Open In Colab\"/></a>"
      ]
    },
    {
      "cell_type": "code",
      "execution_count": null,
      "metadata": {
        "id": "n0NPM7c41PLv"
      },
      "outputs": [],
      "source": [
        "!pip install transformers\n",
        "!pip install sentencepiece\n",
        "\n",
        "from transformers import BigBirdTokenizer, BigBirdForMaskedLM\n",
        "\n",
        "import torch\n",
        "\n",
        "# load tokenizer\n",
        "tokenizer = BigBirdTokenizer.from_pretrained('google/bigbird-roberta-base')\n",
        "model = BigBirdForMaskedLM.from_pretrained('google/bigbird-roberta-base')\n",
        "\n",
        "model"
      ]
    },
    {
      "cell_type": "code",
      "source": [
        "inputs = [\n",
        "    \"I like reading [MASK].\",\n",
        "    \"I like driving a [MASK].\",\n",
        "    \"The world is facing with a [MASK] [MASK] crisis. We are all suffering from infectious disease.\"\n",
        "]\n",
        "\n",
        "answers = [\n",
        "    \"I like reading book.\",\n",
        "    \"I like driving a car.\",\n",
        "    \"The world is facing with a pandemic crisis. We are all suffering from infectious disease.\"\n",
        "]"
      ],
      "metadata": {
        "id": "hTAz5ZZH2j1V"
      },
      "execution_count": null,
      "outputs": []
    },
    {
      "cell_type": "code",
      "source": [],
      "metadata": {
        "id": "_saMBthI4r6_"
      },
      "execution_count": null,
      "outputs": []
    }
  ]
}